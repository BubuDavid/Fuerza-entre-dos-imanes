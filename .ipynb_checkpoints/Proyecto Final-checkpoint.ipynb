{
 "cells": [
  {
   "cell_type": "markdown",
   "metadata": {},
   "source": [
    "# Datos de pesos contra distancias "
   ]
  },
  {
   "cell_type": "markdown",
   "metadata": {},
   "source": [
    "En esta práctica se colocó un sistema de dos imanes, uno encima de otro con los mismos polos de frente, de  tal manera que uno levitara debido a la fuerza de repulsión magnética, el objetivo será poner objetos encima del imán que está flotando para que, con distintas masas, éste imán se acerque al otro, así, por segunda ley de Newton tenemos."
   ]
  },
  {
   "cell_type": "markdown",
   "metadata": {},
   "source": [
    "\\begin{align}\n",
    "\\sum F=ma\n",
    "\\end{align}"
   ]
  },
  {
   "cell_type": "markdown",
   "metadata": {},
   "source": [
    "Y como en este caso, las fuerzas el sistema está en reposo y sabemos que lo único que actúa ahí es la fuerza magnética y la fuerza gravitatoria, obtenemos:"
   ]
  },
  {
   "cell_type": "markdown",
   "metadata": {},
   "source": [
    "\\begin{align}\n",
    "\\sum F = F_{m}-F_{g} = F_{m} - mg = 0\n",
    "\\end{align}\n",
    "Lo que implica\n",
    "\\begin{align}\n",
    "F_{m}=mg\n",
    "\\end{align}"
   ]
  },
  {
   "cell_type": "markdown",
   "metadata": {},
   "source": [
    "donde:\n",
    "- Fm es la fuerza magnética que ejerce el imán de abajo\n",
    "- m es la masa del sistema\n",
    "- g es el valor de la aceleración de la gravedad"
   ]
  },
  {
   "cell_type": "code",
   "execution_count": 31,
   "metadata": {},
   "outputs": [],
   "source": [
    "# Incluímos las librerías necesarias para el proceso de datos\n",
    "import numpy as np\n",
    "import pandas as pd\n",
    "import matplotlib.pyplot as plt\n",
    "from sklearn.linear_model import LinearRegression\n",
    "from sklearn.datasets import make_regression"
   ]
  },
  {
   "cell_type": "code",
   "execution_count": 122,
   "metadata": {},
   "outputs": [
    {
     "data": {
      "text/html": [
       "<div>\n",
       "<style scoped>\n",
       "    .dataframe tbody tr th:only-of-type {\n",
       "        vertical-align: middle;\n",
       "    }\n",
       "\n",
       "    .dataframe tbody tr th {\n",
       "        vertical-align: top;\n",
       "    }\n",
       "\n",
       "    .dataframe thead th {\n",
       "        text-align: right;\n",
       "    }\n",
       "</style>\n",
       "<table border=\"1\" class=\"dataframe\">\n",
       "  <thead>\n",
       "    <tr style=\"text-align: right;\">\n",
       "      <th></th>\n",
       "      <th>Objetos</th>\n",
       "      <th>Masa</th>\n",
       "      <th>Distancias</th>\n",
       "    </tr>\n",
       "  </thead>\n",
       "  <tbody>\n",
       "    <tr>\n",
       "      <th>0</th>\n",
       "      <td>Imán</td>\n",
       "      <td>0.080333333</td>\n",
       "      <td>4.4</td>\n",
       "    </tr>\n",
       "    <tr>\n",
       "      <th>1</th>\n",
       "      <td>Sistema1</td>\n",
       "      <td>0.112</td>\n",
       "      <td>3.85</td>\n",
       "    </tr>\n",
       "    <tr>\n",
       "      <th>2</th>\n",
       "      <td>Sistema2</td>\n",
       "      <td>0.164333333</td>\n",
       "      <td>3.45</td>\n",
       "    </tr>\n",
       "    <tr>\n",
       "      <th>3</th>\n",
       "      <td>Sistema3</td>\n",
       "      <td>0.240333333</td>\n",
       "      <td>2.95</td>\n",
       "    </tr>\n",
       "    <tr>\n",
       "      <th>4</th>\n",
       "      <td>Sistema4</td>\n",
       "      <td>0.320333333</td>\n",
       "      <td>2.5</td>\n",
       "    </tr>\n",
       "    <tr>\n",
       "      <th>5</th>\n",
       "      <td>Sistema5</td>\n",
       "      <td>0.380333333</td>\n",
       "      <td>2.3</td>\n",
       "    </tr>\n",
       "    <tr>\n",
       "      <th>6</th>\n",
       "      <td>Sistema6</td>\n",
       "      <td>0.456333333</td>\n",
       "      <td>2.2</td>\n",
       "    </tr>\n",
       "    <tr>\n",
       "      <th>7</th>\n",
       "      <td>Sistema7</td>\n",
       "      <td>0.584666667</td>\n",
       "      <td>2.2</td>\n",
       "    </tr>\n",
       "    <tr>\n",
       "      <th>8</th>\n",
       "      <td>Sistema8</td>\n",
       "      <td>0.769</td>\n",
       "      <td>2</td>\n",
       "    </tr>\n",
       "    <tr>\n",
       "      <th>9</th>\n",
       "      <td>Sistema9</td>\n",
       "      <td>0.999333333</td>\n",
       "      <td>1.85</td>\n",
       "    </tr>\n",
       "    <tr>\n",
       "      <th>10</th>\n",
       "      <td>Error</td>\n",
       "      <td>0.02</td>\n",
       "      <td>0.05</td>\n",
       "    </tr>\n",
       "    <tr>\n",
       "      <th>11</th>\n",
       "      <td>Unidades</td>\n",
       "      <td>Kg</td>\n",
       "      <td>cm</td>\n",
       "    </tr>\n",
       "  </tbody>\n",
       "</table>\n",
       "</div>"
      ],
      "text/plain": [
       "     Objetos         Masa Distancias\n",
       "0       Imán  0.080333333        4.4\n",
       "1   Sistema1        0.112       3.85\n",
       "2   Sistema2  0.164333333       3.45\n",
       "3   Sistema3  0.240333333       2.95\n",
       "4   Sistema4  0.320333333        2.5\n",
       "5   Sistema5  0.380333333        2.3\n",
       "6   Sistema6  0.456333333        2.2\n",
       "7   Sistema7  0.584666667        2.2\n",
       "8   Sistema8        0.769          2\n",
       "9   Sistema9  0.999333333       1.85\n",
       "10     Error         0.02       0.05\n",
       "11  Unidades           Kg         cm"
      ]
     },
     "execution_count": 122,
     "metadata": {},
     "output_type": "execute_result"
    }
   ],
   "source": [
    "# Cargamos nuestros datos en un objeto dataFrame de pandas\n",
    "data = pd.read_csv('Data.csv')\n",
    "data"
   ]
  },
  {
   "cell_type": "code",
   "execution_count": 123,
   "metadata": {},
   "outputs": [
    {
     "data": {
      "image/png": "[encoded data removed]",
      "text/plain": [
       "<Figure size 432x288 with 1 Axes>"
      ]
     },
     "metadata": {
      "needs_background": "light"
     },
     "output_type": "display_data"
    }
   ],
   "source": [
    "# Graficamos las distanicas y la fuerza\n",
    "r = np.array(data[\"Distancias\"][:10]) # Sacamos los datos de la distancia\n",
    "r = r.astype(np.float) * 10**(-2) # Los transformamos a metros\n",
    "m = np.array(data[\"Masa\"][:10]) # Sacamos los datos de la masa\n",
    "m = m.astype(np.float) # Los transformamos a números\n",
    "g = 9.81 # Definimos la aceleración de la gravedad\n",
    "F=m*g # Calculamos la fuerza magnética a partir de Newton\n",
    "yerr = float(data[\"Masa\"][10])*10 # Definimos nuestro error en y\n",
    "xerror = float(data[\"Distancias\"][10])*10**(-2) # Definimos nuestro error en x\n",
    "#  Graficamos nuestros datos\n",
    "plt.errorbar(r, F, yerr=yerr, xerr=xerror, label = 'Datos', fmt=\"o\")\n",
    "# Damos formato\n",
    "plt.legend()\n",
    "plt.ylabel('Fuerza Magnética (N)')\n",
    "plt.xlabel('Distancia entre dos imanes (m)')\n",
    "plt.title('Midiendo la fuerza magnética')\n",
    "plt.show()"
   ]
  },
  {
   "cell_type": "markdown",
   "metadata": {},
   "source": [
    "Calcularemos el logaritmo de la fuerza para poder hacer una regresión lineal, supondremos que la fuerza magnética entre los imanes está dada por:\n",
    "\\begin{align}\n",
    "F_{m}=\\dfrac{k}{r^{n}}\n",
    "\\end{align}\n",
    "Así con el logaritmo, tendremos que calcular:\n",
    "\\begin{align}\n",
    "Ln(F)=Ln(\\dfrac{k}{r^{n}})=Ln(k)-nLn(r)=b-m x(r)\n",
    "\\end{align}\n",
    "Y con una regresión lineal podemos calcular b y m"
   ]
  },
  {
   "cell_type": "code",
   "execution_count": 124,
   "metadata": {},
   "outputs": [],
   "source": [
    "# Calculamos el Ln de la fuerza y el Ln(r)\n",
    "lnF=np.log(F)\n",
    "lnr=np.log(r)\n",
    "# Esto lo necesitamos para la regresión lineal\n",
    "R = lnr.reshape(-1, 1)"
   ]
  },
  {
   "cell_type": "code",
   "execution_count": 125,
   "metadata": {},
   "outputs": [
    {
     "name": "stdout",
     "output_type": "stream",
     "text": [
      "La forma de nuestra recta es: y = -2.7706x - 8.928\n"
     ]
    }
   ],
   "source": [
    "# Calculamos nuestra regresión linear con ayuda de sklearn\n",
    "lr = LinearRegression()\n",
    "lr.fit(R, lnF)\n",
    "m = lr.coef_[0] # Sacamos nuestra pendiente\n",
    "b = lr.intercept_ # Sacamos nuestra ordenada al origen\n",
    "# Imprimimos nuestra recta\n",
    "print(\"La forma de nuestra recta es: y = {:.5}x - {:.5}\".format(m, b*-1))"
   ]
  },
  {
   "cell_type": "code",
   "execution_count": 126,
   "metadata": {},
   "outputs": [
    {
     "data": {
      "image/png": "[encoded data removed]",
      "text/plain": [
       "<Figure size 432x288 with 1 Axes>"
      ]
     },
     "metadata": {
      "needs_background": "light"
     },
     "output_type": "display_data"
    }
   ],
   "source": [
    "# Graficamos y comparamos\n",
    "plt.errorbar(R, lnF, yerr=yerr, xerr=xerror, fmt=\"o\", label=\"Logaritmo Natural de los Datos\")\n",
    "plt.plot(R, m*R+b, c='red', label=\"Modelo de recta\")\n",
    "plt.legend()\n",
    "plt.ylabel('Ln(F)')\n",
    "plt.xlabel('Ln(r)')\n",
    "plt.title('Midiendo la fuerza magnética')\n",
    "plt.show()\n",
    "plt.show()"
   ]
  },
  {
   "cell_type": "markdown",
   "metadata": {},
   "source": [
    "Ahora, encontrando el error de nuestros parámetros de recta obtenemos y el coeficiente de correlación lineal, es decir, qué tan bien nuestra recta se adapta a los datos, obtenemos:\n",
    "- Error de m:\n",
    "\\begin{align}\n",
    "\\epsilon (m) = \\sqrt{\\dfrac{N}{NS_{xx} - S_{x}S_{x}} \\dfrac{X^{2}(b,m)}{N-2}}\n",
    "\\end{align}\n",
    "- Error de b:\n",
    "\\begin{align}\n",
    "\\epsilon (b) = \\sqrt{\\dfrac{S_{xx}}{NS_{xx} - S_{x}S_{x}} \\dfrac{X^{2}(b,m)}{N-2}}\n",
    "\\end{align}\n",
    "- Coeficiente de correlación lineal:\n",
    "\\begin{align}\n",
    "r = \\dfrac{NS_{xy} - S_{x}S_{y}}{\\sqrt{NS_{xx} - S_{x}S_{x}}\\sqrt{NS_{yy} - S_{y}S_{y}}}\n",
    "\\end{align}"
   ]
  },
  {
   "cell_type": "code",
   "execution_count": 133,
   "metadata": {},
   "outputs": [
    {
     "name": "stdout",
     "output_type": "stream",
     "text": [
      "El erro asociado a nuestra pendiente es: 0.15025922237403383\n",
      "El erro asociado a nuestra ordenada al origen es: 0.5465616763668248\n",
      "Nuestro coeficiente de correlación lineal es: 0.9884383407167198\n"
     ]
    }
   ],
   "source": [
    "# En el siguiente apartado se definirá todo lo necesario para cumplir lo anterior\n",
    "X2=sum((b+m*lnr-lnF)**(2)) # Chi cuadrada\n",
    "N = len(r) # Número de datos\n",
    "Sxx = sum(lnr**(2)) # Suma del cuadrado de los valores de la variable independiente \n",
    "Sx = sum(lnr) # Suma de los valores de la variable independiente\n",
    "Sy = sum(lnF)\n",
    "Syy = sum(lnF**2)\n",
    "Sxy = sum(lnF*lnr)\n",
    "# Error de nuestra pendiente\n",
    "merror = ((N)/(N*Sxx-Sx*Sx)*X2/(N-2))**(1/2)\n",
    " # Error de nuestra ordenada al origen\n",
    "berror = ((Sxx)/(N*Sxx-Sx*Sx) * (X2)/(N-2))**(1/2)\n",
    "# Coeficiente de correlación lineal\n",
    "cl = np.abs((N*Sxy-Sx*Sy)/((N*Sxx-Sx*Sx)**(1/2) * (N*Syy-Sy*Sy)**(1/2)))\n",
    "print(f\"El erro asociado a nuestra pendiente es: {merror}\")\n",
    "print(f\"El erro asociado a nuestra ordenada al origen es: {berror}\")\n",
    "print(f\"Nuestro coeficiente de correlación lineal es: {cl}\")"
   ]
  },
  {
   "cell_type": "markdown",
   "metadata": {},
   "source": [
    "Comparamos con los datos sin el logaritmo"
   ]
  },
  {
   "cell_type": "code",
   "execution_count": 128,
   "metadata": {},
   "outputs": [
    {
     "data": {
      "image/png": "[encoded data removed]",
      "text/plain": [
       "<Figure size 432x288 with 1 Axes>"
      ]
     },
     "metadata": {
      "needs_background": "light"
     },
     "output_type": "display_data"
    }
   ],
   "source": [
    "# Graficamos las distanicas y la fuerza\n",
    "#plt.plot(r, F, marker = '.', label = 'Datos')\n",
    "plt.errorbar(r, F, yerr=yerr, xerr=xerror, fmt=\"o\", label=\"Datos\")\n",
    "plt.plot(r, np.e**(b)*r**m, marker = '.', label = 'Modelo')\n",
    "plt.legend()\n",
    "plt.ylabel('Fuerza Magnética(N)')\n",
    "plt.xlabel('Distancia entre dos imanes(m)')\n",
    "plt.title('Midiendo la fuerza magnética')\n",
    "plt.show()"
   ]
  },
  {
   "cell_type": "code",
   "execution_count": null,
   "metadata": {},
   "outputs": [],
   "source": []
  }
 ],
 "metadata": {
  "kernelspec": {
   "display_name": "Python 3",
   "language": "python",
   "name": "python3"
  },
  "language_info": {
   "codemirror_mode": {
    "name": "ipython",
    "version": 3
   },
   "file_extension": ".py",
   "mimetype": "text/x-python",
   "name": "python",
   "nbconvert_exporter": "python",
   "pygments_lexer": "ipython3",
   "version": "3.7.4"
  }
 },
 "nbformat": 4,
 "nbformat_minor": 4
}
